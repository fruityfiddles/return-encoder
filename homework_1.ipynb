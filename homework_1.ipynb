{
 "cells": [
  {
   "cell_type": "markdown",
   "metadata": {},
   "source": [
    "### Question 1"
   ]
  },
  {
   "cell_type": "code",
   "execution_count": null,
   "metadata": {},
   "outputs": [],
   "source": [
    "def calculate_return(interest_rate, years):\n",
    "    while True:\n",
    "        print()\n",
    "        principal = input('Enter a principal amount: (q to quit): ')\n",
    "        \n",
    "        if principal.lower() == 'q':\n",
    "            print('Program exited.')\n",
    "            break\n",
    "        \n",
    "        print()\n",
    "        print('Year : Compounded Principal')\n",
    "        print('---------------------------')\n",
    "        year = 1\n",
    "        while year <= years:\n",
    "            compounded_principal = float(principal) * (1 + interest_rate) ** year\n",
    "            print('{:>4} : {:<.2f}'.format(year,compounded_principal))\n",
    "            year += 1\n",
    "            "
   ]
  },
  {
   "cell_type": "code",
   "execution_count": null,
   "metadata": {},
   "outputs": [],
   "source": [
    "calculate_return(.1, 20)"
   ]
  },
  {
   "cell_type": "markdown",
   "metadata": {},
   "source": [
    "### Question 2"
   ]
  },
  {
   "cell_type": "code",
   "execution_count": null,
   "metadata": {},
   "outputs": [],
   "source": [
    "def encoder(string):\n",
    "    index = 0\n",
    "    length = 1\n",
    "    result = ''\n",
    "    for character in string:\n",
    "        if index == len(string) - 1:\n",
    "            result += str(length)\n",
    "            result += string[index]\n",
    "        elif string[index] == string[index + 1]:\n",
    "            index += 1\n",
    "            length += 1\n",
    "        else:\n",
    "            result += str(length)\n",
    "            result += string[index]\n",
    "            length = 1\n",
    "            index += 1\n",
    "    return result\n",
    "            "
   ]
  },
  {
   "cell_type": "code",
   "execution_count": null,
   "metadata": {},
   "outputs": [],
   "source": [
    "print(encoder('WWWWWWWWWWWWBWWWWWWWWWWWWBBBWWWWWWWWWWWWWWWWWWWWWWWWBWWWWWWWWWWWWWW'))"
   ]
  },
  {
   "cell_type": "code",
   "execution_count": null,
   "metadata": {},
   "outputs": [],
   "source": []
  }
 ],
 "metadata": {
  "kernelspec": {
   "display_name": "Python 3",
   "language": "python",
   "name": "python3"
  },
  "language_info": {
   "codemirror_mode": {
    "name": "ipython",
    "version": 3
   },
   "file_extension": ".py",
   "mimetype": "text/x-python",
   "name": "python",
   "nbconvert_exporter": "python",
   "pygments_lexer": "ipython3",
   "version": "3.6.4"
  }
 },
 "nbformat": 4,
 "nbformat_minor": 2
}
